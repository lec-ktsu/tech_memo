{
  "nbformat": 4,
  "nbformat_minor": 0,
  "metadata": {
    "colab": {
      "provenance": [],
      "gpuType": "T4"
    },
    "kernelspec": {
      "name": "python3",
      "display_name": "Python 3"
    },
    "language_info": {
      "name": "python"
    },
    "accelerator": "GPU"
  },
  "cells": [
    {
      "cell_type": "markdown",
      "source": [
        "3D gaussian splatting の検討は、gsplat を使って行うことが主流となっているようなので、colab で動作させるノートブックを作成。\n",
        "あれこれ試行錯誤したが、python のバージョンを 3.10 に変更する以外は、[公式サイト](https://github.com/nerfstudio-project/gsplat?tab=readme-ov-file)の指示通りで問題なく動くことが確認できた。\n",
        "当たり前のことだが、GPU インスタンスに接続して以下を実行する。"
      ],
      "metadata": {
        "id": "sVDQwoRnUeUz"
      }
    },
    {
      "cell_type": "code",
      "execution_count": null,
      "metadata": {
        "id": "jUaNuxMnRyjC"
      },
      "outputs": [],
      "source": [
        "!pip list\n",
        "!nvcc -V\n",
        "!cat /etc/os-release\n",
        "!python --version"
      ]
    },
    {
      "cell_type": "markdown",
      "source": [
        "2025年9月27日時点で、colaboratory の python のバージョンは 3.12 となっているので、gsplat が対応しているバージョン（3.10）にダウングレードする。"
      ],
      "metadata": {
        "id": "lrDylZyAELEK"
      }
    },
    {
      "cell_type": "code",
      "source": [
        "!sudo add-apt-repository -y ppa:deadsnakes/ppa\n",
        "!sudo apt-get -y update\n",
        "!sudo apt-get -y install python3.10\n",
        "!sudo apt-get -y install python3.10-dev\n",
        "!sudo apt-get -y install python3-pip\n",
        "!sudo apt-get -y install python3.10-distutils\n",
        "\n",
        "!python3.10 -m pip install --upgrade setuptools\n",
        "!python3.10 -m pip install --upgrade pip\n",
        "!python3.10 -m pip install --upgrade distlib\n",
        "\n",
        "!sudo update-alternatives --install /usr/bin/python python /usr/bin/python3.10 1\n",
        "!sudo update-alternatives --set python /usr/bin/python3.10\n",
        "!sudo ln -sf /usr/bin/python /usr/local/bin/python\n",
        "\n",
        "!python -V\n",
        "# Python 3.10.12"
      ],
      "metadata": {
        "id": "X1RQFS0SSh8W"
      },
      "execution_count": null,
      "outputs": []
    },
    {
      "cell_type": "markdown",
      "source": [
        "まずは、pytorch をインストールする。\n",
        "2025年9月27日時点で、colaboratory 上の cuda のバージョンは、12.5 なので、それに最も近い 12.6 に対応した pytorch を選択。"
      ],
      "metadata": {
        "id": "gvEdb3yhEe6q"
      }
    },
    {
      "cell_type": "code",
      "source": [
        "!pip install torch torchvision --index-url https://download.pytorch.org/whl/cu126"
      ],
      "metadata": {
        "id": "1uZ7y1kxXkzg"
      },
      "execution_count": null,
      "outputs": []
    },
    {
      "cell_type": "markdown",
      "source": [
        "続けて gsplat をインストールする。"
      ],
      "metadata": {
        "id": "WoK3KGY3EkeN"
      }
    },
    {
      "cell_type": "code",
      "source": [
        "!pip install gsplat"
      ],
      "metadata": {
        "id": "2UpPUARhNPfP"
      },
      "execution_count": null,
      "outputs": []
    },
    {
      "cell_type": "markdown",
      "source": [
        "以下、[公式サイト](https://github.com/nerfstudio-project/gsplat?tab=readme-ov-file)の Evaluation に則り、gsplat が適切にインストールできていることを確認する。"
      ],
      "metadata": {
        "id": "gzm3Z7TpEvgq"
      }
    },
    {
      "cell_type": "code",
      "source": [
        "!git clone https://github.com/nerfstudio-project/gsplat.git\n",
        "%cd /content/gsplat/\n",
        "!pwd"
      ],
      "metadata": {
        "id": "j5kDj0qSOfcy"
      },
      "execution_count": null,
      "outputs": []
    },
    {
      "cell_type": "markdown",
      "source": [
        "colaboratory では matplotlib でエラーが出るので、matplotlib-inline をインストールして回避する。"
      ],
      "metadata": {
        "id": "5DgLT03dGe_9"
      }
    },
    {
      "cell_type": "code",
      "source": [
        "%cd examples\n",
        "!pip install -r requirements.txt\n",
        "!pip install matplotlib-inline\n",
        "%cd .."
      ],
      "metadata": {
        "id": "gb80polPPIPx"
      },
      "execution_count": null,
      "outputs": []
    },
    {
      "cell_type": "code",
      "source": [
        "!python examples/datasets/download_dataset.py"
      ],
      "metadata": {
        "id": "7BWUZDAfTwDv"
      },
      "execution_count": null,
      "outputs": []
    },
    {
      "cell_type": "code",
      "source": [
        "!mkdir -p results/garden\n",
        "!export CUDA_VISIBLE_DEVICES=0\n",
        "!python examples/simple_trainer.py default --disable_viewer --data_dir data/360_v2/garden --result_dir results/garden/"
      ],
      "metadata": {
        "id": "dd6-qQqJU8dZ"
      },
      "execution_count": null,
      "outputs": []
    },
    {
      "cell_type": "markdown",
      "source": [
        "得られた結果をダウンロードできるよう圧縮する。\n",
        "なお、garden に対する training には T4 インスタンスで約 3 時間を要した。GPUは最高で 約 12.5 GB を要した。"
      ],
      "metadata": {
        "id": "rQRdQJpcDv6W"
      }
    },
    {
      "cell_type": "code",
      "source": [
        "!python -m examples/simple_viewer --ckpt results/garden/ckpts/ckpt_29999_rank0.pt --output_dir results/garden/ --port 8082"
      ],
      "metadata": {
        "id": "QuknaXByPrMH"
      },
      "execution_count": null,
      "outputs": []
    },
    {
      "cell_type": "code",
      "source": [
        "# !tar -zcvf res.tar.gz res"
      ],
      "metadata": {
        "id": "5bvZ2-vGB0wX"
      },
      "execution_count": null,
      "outputs": []
    }
  ]
}